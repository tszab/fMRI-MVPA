{
 "cells": [
  {
   "attachments": {},
   "cell_type": "markdown",
   "metadata": {},
   "source": [
    "# SVM Classification of fMRI Data on the ds002336"
   ]
  },
  {
   "attachments": {},
   "cell_type": "markdown",
   "metadata": {},
   "source": [
    "## Imports"
   ]
  },
  {
   "cell_type": "code",
   "execution_count": null,
   "metadata": {},
   "outputs": [],
   "source": [
    "from sklearn.svm import LinearSVC, SVC\n",
    "from sklearn.preprocessing import StandardScaler\n",
    "from sklearn.metrics import accuracy_score,confusion_matrix\n",
    "from sklearn.svm import SVC\n",
    "\n",
    "from tqdm.notebook import tqdm\n",
    "from copy import deepcopy\n",
    "import seaborn as sns\n",
    "import numpy as np\n",
    "import pandas as pd\n",
    "import nibabel as nib"
   ]
  },
  {
   "attachments": {},
   "cell_type": "markdown",
   "metadata": {},
   "source": [
    "## Main parameters"
   ]
  },
  {
   "cell_type": "code",
   "execution_count": null,
   "metadata": {},
   "outputs": [],
   "source": [
    "DATASET_FILE = r\"..\\labels.csv\"  # need to be set\n",
    "SELECTED_SUBJECTS = [101, 102, 103, 104, 105, 106, 107, 108, 109, 110]\n",
    "RUN_SET_SPLITS = {\n",
    "    'train': ['-'],   # there are no runs in XP1\n",
    "    'test': ['-']\n",
    "}\n",
    "SELECTED_CLASSES = ['Rest', 'Task-NF']\n",
    "FOLDS = 5"
   ]
  },
  {
   "attachments": {},
   "cell_type": "markdown",
   "metadata": {},
   "source": [
    "## Data handling"
   ]
  },
  {
   "cell_type": "code",
   "execution_count": null,
   "metadata": {},
   "outputs": [],
   "source": [
    "def load_set(set_df: pd.DataFrame, flatten: bool = True, time_first: bool = True, averaged_over_time: bool = False) -> np.ndarray:\n",
    "    data = []\n",
    "    labels = []\n",
    "    for _, row in set_df.iterrows():\n",
    "        # Loaded dimensions height x width x slices x times\n",
    "        loaded_data = nib.load(row['ext_frmi_pths']).get_fdata()\n",
    "\n",
    "        if time_first:\n",
    "            loaded_data = loaded_data.transpose(3, 0, 1, 2)\n",
    "            \n",
    "            if flatten:\n",
    "                loaded_data = loaded_data.reshape((loaded_data.shape[0], loaded_data.shape[1], -1))\n",
    "                loaded_data = loaded_data.reshape((loaded_data.shape[0], -1))\n",
    "\n",
    "            if averaged_over_time:\n",
    "                loaded_data = loaded_data.mean(axis=0, keepdim=True)\n",
    "\n",
    "        elif flatten:\n",
    "            loaded_data = loaded_data.reshape((-1, loaded_data.shape[-1]))\n",
    "\n",
    "            if averaged_over_time:\n",
    "                loaded_data = loaded_data.mean(axis=-1, keepdim=True)\n",
    "\n",
    "        data.append(loaded_data)\n",
    "        labels.append(np.array([row['trial_ids']]).repeat(loaded_data.shape[0]))\n",
    "\n",
    "    data = np.concatenate(data, axis=0)\n",
    "    labels = np.concatenate(labels, axis=0)\n",
    "\n",
    "    return data, labels"
   ]
  },
  {
   "cell_type": "code",
   "execution_count": null,
   "metadata": {},
   "outputs": [],
   "source": [
    "def load_and_split_dataset(dataset_file: str, selected_classes: list, selected_subjects: list, train_runs: list, test_runs: list):\n",
    "    # Load dataset\n",
    "    dataset_file = pd.read_csv(dataset_file, sep=';')\n",
    "\n",
    "    # Filter subjects and classes\n",
    "    subject_query_str = [f'subjects == {selected_subjects[0]}']\n",
    "    if len(selected_subjects) > 1:\n",
    "        _ = [subject_query_str.append(f' | subjects == {subject}') for subject in selected_subjects[1:]]\n",
    "    subject_query_str = ''.join(subject_query_str)\n",
    "\n",
    "    class_query_str = [f'trial_types == \"{selected_classes[0]}\"']\n",
    "    if len(selected_classes) > 1:\n",
    "        _ = [class_query_str.append(f' | trial_types == \"{class_type}\"') for class_type in selected_classes[1:]]\n",
    "    class_query_str = ''.join(class_query_str)\n",
    "    \n",
    "    dataset_file = dataset_file.query(f'({subject_query_str}) & ({class_query_str})')\n",
    "    dataset_file.reset_index(drop=True, inplace=True)\n",
    "\n",
    "    # Split set file into train and test splits\n",
    "    train_set_file = dataset_file.loc[dataset_file['runs'].isin(train_runs)]\n",
    "    test_set_file = dataset_file.loc[dataset_file['runs'].isin(test_runs)]\n",
    "\n",
    "    # Load data sets and labels\n",
    "    train_data, train_labels = load_set(train_set_file)\n",
    "    test_data, test_labels = load_set(test_set_file)\n",
    "\n",
    "    # Standardize data\n",
    "    sc_train = StandardScaler()\n",
    "    train_data = sc_train.fit_transform(train_data)\n",
    "\n",
    "    sc_test = StandardScaler()\n",
    "    test_data = sc_test.fit_transform(test_data)\n",
    "\n",
    "    return train_data, train_labels, test_data, test_labels"
   ]
  },
  {
   "attachments": {},
   "cell_type": "markdown",
   "metadata": {},
   "source": [
    "# Training sessions"
   ]
  },
  {
   "attachments": {},
   "cell_type": "markdown",
   "metadata": {},
   "source": [
    "## Subject-wise SVMs"
   ]
  },
  {
   "attachments": {},
   "cell_type": "markdown",
   "metadata": {},
   "source": [
    "### Linear kernel"
   ]
  },
  {
   "cell_type": "code",
   "execution_count": null,
   "metadata": {},
   "outputs": [],
   "source": [
    "subject_linear_svcs = dict()\n",
    "\n",
    "folds = FOLDS\n",
    "with tqdm(total=folds * len(SELECTED_SUBJECTS), leave=True) as pbar:\n",
    "    for subject in SELECTED_SUBJECTS:\n",
    "        print(f'Subject {subject}')\n",
    "        subject_linear_svcs[str(subject)] = {\n",
    "            'model': None,\n",
    "            'accuracies': []\n",
    "        }\n",
    "\n",
    "        train_data, train_labels, _, _ = \\\n",
    "            load_and_split_dataset(DATASET_FILE, SELECTED_CLASSES, [subject], RUN_SET_SPLITS['train'], RUN_SET_SPLITS['test'])\n",
    "\n",
    "        best_acc = 0.\n",
    "        for fold in range(folds):\n",
    "            print(f'Fold {fold}')\n",
    "\n",
    "            zero_indices = np.array([idx for idx in range(0, len(train_data), 1) if train_labels[idx] == 0])\n",
    "            one_indices = np.array([idx for idx in range(0, len(train_data), 1) if train_labels[idx] == 1])\n",
    "            rnd = np.random.RandomState(seed=fold)\n",
    "            rnd.shuffle(zero_indices)\n",
    "            rnd.shuffle(one_indices)\n",
    "            fold_indices = np.zeros(zero_indices.shape[0]*2, dtype=np.longlong)\n",
    "            fold_indices[::2] = zero_indices\n",
    "            fold_indices[1::2] = one_indices\n",
    "            \n",
    "            train_length = int(len(train_data) * 0.8)\n",
    "            fold_train_data, fold_train_labels = train_data[fold_indices][:train_length], train_labels[fold_indices][:train_length]\n",
    "            fold_test_data, fold_test_labels = train_data[fold_indices][train_length:], train_labels[fold_indices][train_length:]\n",
    "\n",
    "            linear_svc = SVC(kernel='linear', verbose=1, C=0.1)\n",
    "            linear_svc.fit(fold_train_data, fold_train_labels)\n",
    "            \n",
    "            predictions = linear_svc.predict(fold_test_data)\n",
    "            fold_acc = accuracy_score(predictions, fold_test_labels)\n",
    "            print(f'Fold accuracy: {fold_acc * 100}%')\n",
    "            if fold_acc > best_acc:\n",
    "                best_acc = fold_acc\n",
    "                subject_linear_svcs[str(subject)]['model'] = deepcopy(linear_svc)\n",
    "            subject_linear_svcs[str(subject)]['accuracies'].append(fold_acc)\n",
    "            \n",
    "            pbar.update(1)"
   ]
  },
  {
   "attachments": {},
   "cell_type": "markdown",
   "metadata": {},
   "source": [
    "#### Plot accuracies"
   ]
  },
  {
   "cell_type": "code",
   "execution_count": null,
   "metadata": {},
   "outputs": [],
   "source": [
    "for_df = {\n",
    "    'accuracy': [],\n",
    "    'subject': []\n",
    "}\n",
    "for subject in SELECTED_SUBJECTS:\n",
    "    for_df['accuracy'].extend(subject_linear_svcs[str(subject)]['accuracies'])\n",
    "    for_df['subject'].extend([f'xp{subject}'] * 5)\n",
    "df = pd.DataFrame.from_dict(for_df)\n",
    "\n",
    "import seaborn as sns\n",
    "sns.set_theme(style=\"whitegrid\")\n",
    "\n",
    "# Draw a nested barplot by species and sex\n",
    "g = sns.catplot(\n",
    "    data=df, kind=\"bar\",\n",
    "    x=\"subject\", y=\"accuracy\",\n",
    "    errorbar=\"sd\", palette=\"dark\", alpha=.7, height=8\n",
    ")\n",
    "g.despine(left=True)\n",
    "g.set_axis_labels(\"Patient\", \"Accuracy\")\n",
    "g.fig.suptitle(\"Classification Accuracies of Separate SVMs per Subject\")"
   ]
  },
  {
   "attachments": {},
   "cell_type": "markdown",
   "metadata": {},
   "source": [
    "### RBF SVM"
   ]
  },
  {
   "cell_type": "code",
   "execution_count": null,
   "metadata": {},
   "outputs": [],
   "source": [
    "subject_rbf_svcs = dict()\n",
    "\n",
    "folds = FOLDS\n",
    "with tqdm(total=folds * len(SELECTED_SUBJECTS), leave=True) as pbar:\n",
    "    for subject in SELECTED_SUBJECTS:\n",
    "        print(f'Subject {subject}')\n",
    "        subject_rbf_svcs[str(subject)] = {\n",
    "            'model': None,\n",
    "            'accuracies': []\n",
    "        }\n",
    "\n",
    "        train_data, train_labels, _, _ = \\\n",
    "            load_and_split_dataset(DATASET_FILE, SELECTED_CLASSES, [subject], RUN_SET_SPLITS['train'], RUN_SET_SPLITS['test'])\n",
    "\n",
    "        best_acc = 0.\n",
    "        for fold in range(folds):\n",
    "            print(f'Fold {fold}')\n",
    "\n",
    "            zero_indices = np.array([idx for idx in range(0, len(train_data), 1) if train_labels[idx] == 0])\n",
    "            one_indices = np.array([idx for idx in range(0, len(train_data), 1) if train_labels[idx] == 1])\n",
    "            rnd = np.random.RandomState(seed=fold)\n",
    "            rnd.shuffle(zero_indices)\n",
    "            rnd.shuffle(one_indices)\n",
    "            fold_indices = np.zeros(zero_indices.shape[0]*2, dtype=np.longlong)\n",
    "            fold_indices[::2] = zero_indices\n",
    "            fold_indices[1::2] = one_indices\n",
    "            \n",
    "            train_length = int(len(train_data) * 0.8)\n",
    "            fold_train_data, fold_train_labels = train_data[fold_indices][:train_length], train_labels[fold_indices][:train_length]\n",
    "            fold_test_data, fold_test_labels = train_data[fold_indices][train_length:], train_labels[fold_indices][train_length:]\n",
    "\n",
    "            rbf_svc = SVC(kernel='rbf', verbose=1, C=0.1, max_iter=1000)\n",
    "            rbf_svc.fit(fold_train_data, fold_train_labels)\n",
    "            \n",
    "            predictions = rbf_svc.predict(fold_test_data)\n",
    "            fold_acc = accuracy_score(predictions, fold_test_labels)\n",
    "            print(f'Fold accuracy: {fold_acc * 100}%')\n",
    "            if fold_acc > best_acc:\n",
    "                best_acc = fold_acc\n",
    "                subject_rbf_svcs[str(subject)]['model'] = deepcopy(rbf_svc)\n",
    "            subject_rbf_svcs[str(subject)]['accuracies'].append(fold_acc)\n",
    "            \n",
    "            pbar.update(1)"
   ]
  },
  {
   "attachments": {},
   "cell_type": "markdown",
   "metadata": {},
   "source": [
    "#### Plot accuracies"
   ]
  },
  {
   "cell_type": "code",
   "execution_count": null,
   "metadata": {},
   "outputs": [],
   "source": [
    "for_df = {\n",
    "    'accuracy': [],\n",
    "    'subject': []\n",
    "}\n",
    "for subject in SELECTED_SUBJECTS:\n",
    "    for_df['accuracy'].extend(subject_rbf_svcs[str(subject)]['accuracies'])\n",
    "    for_df['subject'].extend([f'xp{subject}'] * 5)\n",
    "df = pd.DataFrame.from_dict(for_df)\n",
    "\n",
    "sns.set_theme(style=\"whitegrid\")\n",
    "g = sns.catplot(\n",
    "    data=df, kind=\"bar\",\n",
    "    x=\"subject\", y=\"accuracy\",\n",
    "    errorbar=\"sd\", palette=\"dark\", alpha=.7, height=8\n",
    ")\n",
    "g.despine(left=True)\n",
    "g.set_axis_labels(\"Patient\", \"Accuracy\")\n",
    "g.fig.suptitle(\"Classification Accuracies of Separate SVMs per Subject\")\n",
    "g.set(ylim=(0, 1))"
   ]
  },
  {
   "attachments": {},
   "cell_type": "markdown",
   "metadata": {},
   "source": [
    "## Inter-subject SVMs"
   ]
  },
  {
   "attachments": {},
   "cell_type": "markdown",
   "metadata": {},
   "source": [
    "### Linear SVM"
   ]
  },
  {
   "cell_type": "code",
   "execution_count": null,
   "metadata": {},
   "outputs": [],
   "source": [
    "mixed_linear_svcs = {\n",
    "    'model': None,\n",
    "    'accuracies': []\n",
    "}\n",
    "\n",
    "folds = FOLDS\n",
    "with tqdm(total=folds, leave=True) as pbar:\n",
    "    train_data, train_labels, _, _ = \\\n",
    "        load_and_split_dataset(DATASET_FILE, SELECTED_CLASSES, SELECTED_SUBJECTS, RUN_SET_SPLITS['train'], RUN_SET_SPLITS['test'])\n",
    "\n",
    "    best_acc = 0.\n",
    "    for fold in range(folds):\n",
    "        print(f'Fold {fold}')\n",
    "\n",
    "        zero_indices = np.array([idx for idx in range(0, len(train_data), 1) if train_labels[idx] == 0])\n",
    "        one_indices = np.array([idx for idx in range(0, len(train_data), 1) if train_labels[idx] == 1])\n",
    "        rnd = np.random.RandomState(seed=fold)\n",
    "        rnd.shuffle(zero_indices)\n",
    "        rnd.shuffle(one_indices)\n",
    "        fold_indices = np.zeros(zero_indices.shape[0]*2, dtype=np.longlong)\n",
    "        fold_indices[::2] = zero_indices\n",
    "        fold_indices[1::2] = one_indices\n",
    "        \n",
    "        train_length = int(len(train_data) * 0.8)\n",
    "        fold_train_data, fold_train_labels = train_data[fold_indices][:train_length], train_labels[fold_indices][:train_length]\n",
    "        fold_test_data, fold_test_labels = train_data[fold_indices][train_length:], train_labels[fold_indices][train_length:]\n",
    "\n",
    "        linear_svc = SVC(verbose=1, C=0.1, kernel='linear')\n",
    "        linear_svc.fit(fold_train_data, fold_train_labels)\n",
    "        \n",
    "        predictions = linear_svc.predict(fold_test_data)\n",
    "        fold_acc = accuracy_score(fold_test_labels, predictions)\n",
    "        print(f'Fold accuracy: {fold_acc * 100}%')\n",
    "        if fold_acc > best_acc:\n",
    "            best_acc = fold_acc\n",
    "            mixed_linear_svcs['model'] = deepcopy(linear_svc)\n",
    "        mixed_linear_svcs['accuracies'].append(fold_acc)\n",
    "        \n",
    "        pbar.update(1)"
   ]
  },
  {
   "attachments": {},
   "cell_type": "markdown",
   "metadata": {},
   "source": [
    "#### Plot metrics"
   ]
  },
  {
   "cell_type": "code",
   "execution_count": null,
   "metadata": {},
   "outputs": [],
   "source": [
    "train_data, train_labels, _, _ = \\\n",
    "    load_and_split_dataset(DATASET_FILE, SELECTED_CLASSES, SELECTED_SUBJECTS, RUN_SET_SPLITS['train'], RUN_SET_SPLITS['test'])\n",
    "\n",
    "zero_indices = np.array([idx for idx in range(0, len(train_data), 1) if train_labels[idx] == 0])\n",
    "one_indices = np.array([idx for idx in range(0, len(train_data), 1) if train_labels[idx] == 1])\n",
    "rnd = np.random.RandomState(seed=1)\n",
    "rnd.shuffle(zero_indices)\n",
    "rnd.shuffle(one_indices)\n",
    "fold_indices = np.zeros(zero_indices.shape[0]*2, dtype=np.longlong)\n",
    "fold_indices[::2] = zero_indices\n",
    "fold_indices[1::2] = one_indices\n",
    "\n",
    "train_length = int(len(train_data) * 0.8)\n",
    "fold_train_data, fold_train_labels = train_data[fold_indices][:train_length], train_labels[fold_indices][:train_length]\n",
    "fold_test_data, fold_test_labels = train_data[fold_indices][train_length:], train_labels[fold_indices][train_length:]\n",
    "\n",
    "linear_svc = SVC(verbose=1, C=0.1, kernel='linear')\n",
    "linear_svc.fit(fold_train_data, fold_train_labels)"
   ]
  },
  {
   "cell_type": "code",
   "execution_count": null,
   "metadata": {},
   "outputs": [],
   "source": [
    "predictions = linear_svc.predict(fold_test_data)\n",
    "acc = accuracy_score(fold_test_labels, predictions)\n",
    "print(f'Accuracy: {acc * 100}%')\n",
    "\n",
    "conf_mat = confusion_matrix(fold_test_labels, predictions)\n",
    "sns.heatmap(conf_mat, annot=True)"
   ]
  },
  {
   "attachments": {},
   "cell_type": "markdown",
   "metadata": {},
   "source": [
    "### RBF SVM"
   ]
  },
  {
   "cell_type": "code",
   "execution_count": null,
   "metadata": {},
   "outputs": [],
   "source": [
    "mixed_rbf_svcs = {\n",
    "    'model': None,\n",
    "    'accuracies': []\n",
    "}\n",
    "\n",
    "folds = FOLDS\n",
    "with tqdm(total=folds, leave=True) as pbar:\n",
    "    train_data, train_labels, _, _ = \\\n",
    "        load_and_split_dataset(DATASET_FILE, SELECTED_CLASSES, SELECTED_SUBJECTS, RUN_SET_SPLITS['train'], RUN_SET_SPLITS['test'])\n",
    "\n",
    "    best_acc = 0.\n",
    "    for fold in range(folds):\n",
    "        print(f'Fold {fold}')\n",
    "\n",
    "        zero_indices = np.array([idx for idx in range(0, len(train_data), 1) if train_labels[idx] == 0])\n",
    "        one_indices = np.array([idx for idx in range(0, len(train_data), 1) if train_labels[idx] == 1])\n",
    "        rnd = np.random.RandomState(seed=fold)\n",
    "        rnd.shuffle(zero_indices)\n",
    "        rnd.shuffle(one_indices)\n",
    "        fold_indices = np.zeros(zero_indices.shape[0]*2, dtype=np.longlong)\n",
    "        fold_indices[::2] = zero_indices\n",
    "        fold_indices[1::2] = one_indices\n",
    "        \n",
    "        train_length = int(len(train_data) * 0.8)\n",
    "        fold_train_data, fold_train_labels = train_data[fold_indices][:train_length], train_labels[fold_indices][:train_length]\n",
    "        fold_test_data, fold_test_labels = train_data[fold_indices][train_length:], train_labels[fold_indices][train_length:]\n",
    "\n",
    "        rbf_svc = SVC(verbose=1, C=0.1, kernel='rbf', max_iter=1000)\n",
    "        rbf_svc.fit(fold_train_data, fold_train_labels)\n",
    "        \n",
    "        predictions = rbf_svc.predict(fold_test_data)\n",
    "        fold_acc = accuracy_score(fold_test_labels, predictions)\n",
    "        print(f'Fold accuracy: {fold_acc * 100}%')\n",
    "        if fold_acc > best_acc:\n",
    "            best_acc = fold_acc\n",
    "            mixed_rbf_svcs['model'] = deepcopy(rbf_svc)\n",
    "        mixed_rbf_svcs['accuracies'].append(fold_acc)\n",
    "        \n",
    "        pbar.update(1)"
   ]
  },
  {
   "cell_type": "code",
   "execution_count": null,
   "metadata": {},
   "outputs": [],
   "source": [
    "train_data, train_labels, _, _ = \\\n",
    "    load_and_split_dataset(DATASET_FILE, SELECTED_CLASSES, SELECTED_SUBJECTS, RUN_SET_SPLITS['train'], RUN_SET_SPLITS['test'])\n",
    "\n",
    "zero_indices = np.array([idx for idx in range(0, len(train_data), 1) if train_labels[idx] == 0])\n",
    "one_indices = np.array([idx for idx in range(0, len(train_data), 1) if train_labels[idx] == 1])\n",
    "rnd = np.random.RandomState(seed=1)\n",
    "rnd.shuffle(zero_indices)\n",
    "rnd.shuffle(one_indices)\n",
    "fold_indices = np.zeros(zero_indices.shape[0]*2, dtype=np.longlong)\n",
    "fold_indices[::2] = zero_indices\n",
    "fold_indices[1::2] = one_indices\n",
    "\n",
    "train_length = int(len(train_data) * 0.8)\n",
    "fold_train_data, fold_train_labels = train_data[fold_indices][:train_length], train_labels[fold_indices][:train_length]\n",
    "fold_test_data, fold_test_labels = train_data[fold_indices][train_length:], train_labels[fold_indices][train_length:]\n",
    "\n",
    "rbf_svc = SVC(verbose=1, C=0.1, kernel='rbf')\n",
    "rbf_svc.fit(fold_train_data, fold_train_labels)"
   ]
  },
  {
   "cell_type": "code",
   "execution_count": null,
   "metadata": {},
   "outputs": [],
   "source": [
    "predictions = rbf_svc.predict(fold_test_data)\n",
    "acc = accuracy_score(fold_test_labels, predictions)\n",
    "print(f'Accuracy: {acc * 100}%')\n",
    "\n",
    "conf_mat = confusion_matrix(fold_test_labels, predictions)\n",
    "sns.heatmap(conf_mat, annot=True)"
   ]
  },
  {
   "attachments": {},
   "cell_type": "markdown",
   "metadata": {},
   "source": [
    "## Visualize linear SVM coefficients on top of the original fMRI data"
   ]
  },
  {
   "cell_type": "code",
   "execution_count": null,
   "metadata": {},
   "outputs": [],
   "source": [
    "import matplotlib.pyplot as plt\n",
    "from skimage.util import montage\n",
    "import nibabel as nib\n",
    "from nilearn.plotting import plot_glass_brain\n",
    "from skimage.transform import rescale\n",
    "\n",
    "base = nib.load(r\"..\\data\\ds002338\\PreProcessed\\Trials\\XP1\\sub-101\\1_Task-NF_fmri.nii.gz\").get_fdata().transpose(2, 0, 1, 3).mean(-1)  # need to be set\n",
    "\n",
    "subject_coeffs = linear_svc.coef_\n",
    "subject_coeffs = subject_coeffs.squeeze(0).reshape(44, 64, 64).transpose(2, 0, 1)\n",
    "subj_coefs_pos = np.where(subject_coeffs > 0, subject_coeffs, 0)\n",
    "subj_coefs_neg = np.where(subject_coeffs < 0, np.abs(subject_coeffs), 0)\n",
    "\n",
    "# Visualize activation maps based on SVM Coefficients\n",
    "plt.figure(figsize=(20, 20))\n",
    "plt.imshow(montage(subj_coefs_pos[1:]))\n",
    "plt.imshow(montage(subj_coefs_neg[1:]))\n",
    "plt.colorbar()\n",
    "plt.imshow(montage(base[1:]), cmap=\"gray\", alpha=0.5)\n",
    "plt.grid(False)\n",
    "plt.show()"
   ]
  },
  {
   "cell_type": "code",
   "execution_count": null,
   "metadata": {},
   "outputs": [],
   "source": [
    "# Visualize activation maps based on SVM Coefficients\n",
    "plt.figure(figsize=(20, 20))\n",
    "plt.imshow(montage(subj_coefs_pos[1:] * base[1:]))\n",
    "plt.imshow(montage(subj_coefs_neg[1:] * base[1:]))\n",
    "plt.colorbar()\n",
    "plt.imshow(montage(base[1:]), cmap=\"gray\", alpha=0.5)\n",
    "plt.grid(False)\n",
    "plt.show()"
   ]
  }
 ],
 "metadata": {
  "kernelspec": {
   "display_name": "Python 3.9.13 ('pt')",
   "language": "python",
   "name": "python3"
  },
  "language_info": {
   "codemirror_mode": {
    "name": "ipython",
    "version": 3
   },
   "file_extension": ".py",
   "mimetype": "text/x-python",
   "name": "python",
   "nbconvert_exporter": "python",
   "pygments_lexer": "ipython3",
   "version": "3.9.13 (main, Oct 13 2022, 21:23:06) [MSC v.1916 64 bit (AMD64)]"
  },
  "orig_nbformat": 4,
  "vscode": {
   "interpreter": {
    "hash": "fdd96f0c715a1bc4e1bb5609a8ddfb420569e343ee819478f5c3445b6e8b2467"
   }
  }
 },
 "nbformat": 4,
 "nbformat_minor": 2
}
